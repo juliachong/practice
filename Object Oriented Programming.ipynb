{
 "cells": [
  {
   "cell_type": "markdown",
   "metadata": {},
   "source": [
    " A class is the blueprint for creating a code/instance object.\n",
    "\n",
    "It contains both the layout for new objects as well as the ability to execute them."
   ]
  },
  {
   "cell_type": "code",
   "execution_count": 14,
   "metadata": {},
   "outputs": [],
   "source": [
    "class Dog:\n",
    "    pass"
   ]
  },
  {
   "cell_type": "markdown",
   "metadata": {},
   "source": [
    "Calling the class creates an instance of the class. \n",
    "\n",
    "Instances are objects of the class that contain information of a specific dog.\n",
    "\n",
    "This is called instantiating. Instantiating brings a function to life off the assembly line."
   ]
  },
  {
   "cell_type": "markdown",
   "metadata": {},
   "source": [
    "# rex is an instance of Dog."
   ]
  },
  {
   "cell_type": "code",
   "execution_count": 15,
   "metadata": {},
   "outputs": [],
   "source": [
    "rex = Dog()"
   ]
  },
  {
   "cell_type": "markdown",
   "metadata": {},
   "source": [
    "We write a function for bark, then assign the function as an attribute of rex."
   ]
  },
  {
   "cell_type": "markdown",
   "metadata": {},
   "source": [
    "# make_a_bark is a function assigned to bark."
   ]
  },
  {
   "cell_type": "markdown",
   "metadata": {},
   "source": [
    "# bark is an attribute of rex."
   ]
  },
  {
   "cell_type": "code",
   "execution_count": 30,
   "metadata": {},
   "outputs": [
    {
     "data": {
      "text/plain": [
       "<function __main__.make_a_bark()>"
      ]
     },
     "execution_count": 30,
     "metadata": {},
     "output_type": "execute_result"
    }
   ],
   "source": [
    "def make_a_bark():\n",
    "    return 'ruff ruff!'\n",
    "\n",
    "rex.bark = make_a_bark\n",
    "rex.bark"
   ]
  },
  {
   "cell_type": "markdown",
   "metadata": {},
   "source": [
    "Note: a function like make_a_bark contains a block of code that can optionally take in parameters such as objects or data as explicit parameters, operate on them, and optionally return a value."
   ]
  },
  {
   "cell_type": "code",
   "execution_count": 36,
   "metadata": {},
   "outputs": [
    {
     "data": {
      "text/plain": [
       "<function __main__.make_a_bark()>"
      ]
     },
     "execution_count": 36,
     "metadata": {},
     "output_type": "execute_result"
    }
   ],
   "source": [
    "make_a_bark"
   ]
  },
  {
   "cell_type": "markdown",
   "metadata": {},
   "source": [
    "A method is:\n",
    "- a function bound to a class\n",
    "- a function bound to instances of a class"
   ]
  },
  {
   "cell_type": "code",
   "execution_count": 35,
   "metadata": {},
   "outputs": [
    {
     "data": {
      "text/plain": [
       "'ruff ruff!'"
      ]
     },
     "execution_count": 35,
     "metadata": {},
     "output_type": "execute_result"
    }
   ],
   "source": [
    "rex.bark()"
   ]
  },
  {
   "cell_type": "markdown",
   "metadata": {},
   "source": [
    "make_a_bark is a function defined outside of the class, Dog. So, you are able to call the function by itself, without having to attach it to rex. "
   ]
  },
  {
   "cell_type": "code",
   "execution_count": 32,
   "metadata": {},
   "outputs": [
    {
     "data": {
      "text/plain": [
       "'ruff ruff!'"
      ]
     },
     "execution_count": 32,
     "metadata": {},
     "output_type": "execute_result"
    }
   ],
   "source": [
    "make_a_bark()"
   ]
  },
  {
   "cell_type": "markdown",
   "metadata": {},
   "source": [
    "We re-define the class, Dog, and put an instance method called bark in the class.\n",
    "\n",
    "Now, whenever we instantiate Dog, the instance will have bark() instance method as an attribute.\n",
    "\n",
    "To define an instance method and call it on an instance object, you need to pass through the parameter, self, as we are calling the method on the object itself."
   ]
  },
  {
   "cell_type": "code",
   "execution_count": 44,
   "metadata": {},
   "outputs": [],
   "source": [
    "class Dog:\n",
    "    def bark(self):\n",
    "        return \"I'm an instance method! BARK BARK\""
   ]
  },
  {
   "cell_type": "code",
   "execution_count": 45,
   "metadata": {},
   "outputs": [
    {
     "data": {
      "text/plain": [
       "\"I'm an instance method! BARK BARK\""
      ]
     },
     "execution_count": 45,
     "metadata": {},
     "output_type": "execute_result"
    }
   ],
   "source": [
    "rex = Dog()\n",
    "rex.bark()"
   ]
  },
  {
   "cell_type": "markdown",
   "metadata": {},
   "source": [
    "# GENERAL FORMAT:\n",
    "class,\n",
    "\n",
    "function within class (instance method),\n",
    "\n",
    "\n",
    "\n",
    "\n",
    "instantiate by calling the class, and creating an instance of the class,\n",
    "\n",
    "\n",
    "call the instance method by attaching it to the instance of the class.\n"
   ]
  },
  {
   "cell_type": "markdown",
   "metadata": {},
   "source": [
    "# Lab"
   ]
  },
  {
   "cell_type": "markdown",
   "metadata": {},
   "source": [
    "Define a class Driver with two instance methods:\n",
    "\n",
    "greeting: this should return the string \"Hey, how are you?\"\n",
    "ask_for_destination: this should return the string \"Where would you like to go today?\""
   ]
  },
  {
   "cell_type": "code",
   "execution_count": 46,
   "metadata": {},
   "outputs": [],
   "source": [
    "class Driver():\n",
    "    def greeting(self):\n",
    "        return 'Hey, how are you?'\n",
    "    def ask_for_destination(self):\n",
    "        return 'Where would you like to go today?'"
   ]
  },
  {
   "cell_type": "markdown",
   "metadata": {},
   "source": [
    "Define a class Passenger with two instance methods:\n",
    "\n",
    "reply_greeting: this should return the string \"I am doing well!\"\n",
    "in_a_hurry: this should return the string \"Punch it! They're on our tail!\""
   ]
  },
  {
   "cell_type": "code",
   "execution_count": 47,
   "metadata": {},
   "outputs": [],
   "source": [
    "class Passenger():\n",
    "    def reply_greeting(self):\n",
    "        return 'I am doing well!'\n",
    "    def in_a_hurry(self):\n",
    "        return \"Punch it, they're on our tail!\""
   ]
  },
  {
   "cell_type": "code",
   "execution_count": 48,
   "metadata": {},
   "outputs": [],
   "source": [
    "daniel = Driver()\n",
    "niky = Passenger()"
   ]
  },
  {
   "cell_type": "code",
   "execution_count": 57,
   "metadata": {},
   "outputs": [],
   "source": [
    "polite_greeting = daniel.greeting()"
   ]
  },
  {
   "cell_type": "code",
   "execution_count": 62,
   "metadata": {},
   "outputs": [],
   "source": [
    "no_time_to_talk = niky.in_a_hurry()"
   ]
  },
  {
   "cell_type": "code",
   "execution_count": 267,
   "metadata": {},
   "outputs": [],
   "source": [
    "class Driver():\n",
    "    def miles_driven(self):\n",
    "        return 10000\n",
    "\n",
    "class Passenger():\n",
    "    def rating(self):\n",
    "        return 4.9"
   ]
  },
  {
   "cell_type": "code",
   "execution_count": 301,
   "metadata": {},
   "outputs": [],
   "source": [
    "driver = Driver()\n",
    "driver.miles_driven = 10000\n",
    "passenger = Passenger()\n",
    "passenger.rating = 4.9"
   ]
  },
  {
   "cell_type": "code",
   "execution_count": 311,
   "metadata": {},
   "outputs": [],
   "source": [
    "alex_driver = Driver()\n",
    "alex_driver.name = \"alex\"\n",
    "alex_driver.rating = 9.0\n",
    "\n",
    "michelle_driver = Driver()\n",
    "michelle_driver.name = \"michelle\"\n",
    "michelle_driver.rating = 8.0\n",
    "\n",
    "jake_driver = Driver()\n",
    "jake_driver.name = \"jake\"\n",
    "jake_driver.rating = 9.7\n",
    "\n",
    "ashleigh_driver = Driver()\n",
    "ashleigh_driver.name = \"ashleigh\"\n",
    "ashleigh_driver.rating = 8.75\n",
    "\n",
    "list_of_drivers = [alex_driver, michelle_driver, jake_driver, ashleigh_driver]"
   ]
  },
  {
   "cell_type": "markdown",
   "metadata": {},
   "source": [
    "In this function, we are able to pass through the drivers list [alex_driver, michelle_driver, ashleigh_driver], and call their names from attributes that were defined previously, alex_driver.name."
   ]
  },
  {
   "cell_type": "code",
   "execution_count": 305,
   "metadata": {},
   "outputs": [],
   "source": [
    "def find_driver_by_name(drivers, name):\n",
    "    for driver in drivers:\n",
    "        if driver.name == name:\n",
    "            return name\n",
    "        else:\n",
    "            return \"Sorry, we couldn't find a driver with the name {}\".format(name)\n"
   ]
  },
  {
   "cell_type": "code",
   "execution_count": 306,
   "metadata": {},
   "outputs": [
    {
     "data": {
      "text/plain": [
       "'alex'"
      ]
     },
     "execution_count": 306,
     "metadata": {},
     "output_type": "execute_result"
    }
   ],
   "source": [
    "find_driver_by_name(list_of_drivers, 'alex')"
   ]
  },
  {
   "cell_type": "code",
   "execution_count": 331,
   "metadata": {},
   "outputs": [],
   "source": [
    "def name_starts_with(drivers, substring):\n",
    "    starts_with = []\n",
    "    \n",
    "    for driver in drivers:\n",
    "        if driver.name.startswith(substring):\n",
    "            starts_with.append(driver.name)\n",
    "    \n",
    "    return starts_with"
   ]
  },
  {
   "cell_type": "code",
   "execution_count": 333,
   "metadata": {},
   "outputs": [
    {
     "data": {
      "text/plain": [
       "['alex', 'ashleigh']"
      ]
     },
     "execution_count": 333,
     "metadata": {},
     "output_type": "execute_result"
    }
   ],
   "source": [
    "name_starts_with(list_of_drivers, 'a')"
   ]
  },
  {
   "cell_type": "markdown",
   "metadata": {},
   "source": [
    "# animal noises"
   ]
  },
  {
   "cell_type": "code",
   "execution_count": 299,
   "metadata": {},
   "outputs": [],
   "source": [
    "class Lion():\n",
    "    def speak(self):\n",
    "        return 'ROAR'\n",
    "\n",
    "class Tiger():\n",
    "    def speak(self):\n",
    "        return 'GROWL'\n",
    "\n",
    "class Elephant():\n",
    "    def speak(self):\n",
    "        return '*TRUMPET*'"
   ]
  },
  {
   "cell_type": "code",
   "execution_count": 254,
   "metadata": {},
   "outputs": [],
   "source": [
    "simba = Lion()\n",
    "tony = Tiger()\n",
    "dumbo = Elephant()"
   ]
  },
  {
   "cell_type": "code",
   "execution_count": 255,
   "metadata": {},
   "outputs": [],
   "source": [
    "zoo = [simba, tony, dumbo]"
   ]
  },
  {
   "cell_type": "code",
   "execution_count": 257,
   "metadata": {},
   "outputs": [
    {
     "name": "stdout",
     "output_type": "stream",
     "text": [
      "ROAR\n",
      "GROWL\n",
      "*TRUMPET*\n"
     ]
    }
   ],
   "source": [
    "for animal in zoo:\n",
    "    print(animal.speak())"
   ]
  },
  {
   "cell_type": "markdown",
   "metadata": {},
   "source": [
    "# Apply to NLPrimaries project"
   ]
  },
  {
   "cell_type": "code",
   "execution_count": 250,
   "metadata": {},
   "outputs": [],
   "source": [
    "import pandas as pd\n",
    "import re\n",
    "\n",
    "class Import():\n",
    "    def read_data(self=None, name=None):\n",
    "        self.name = name\n",
    "        name = pd.read_csv(('{}.csv'.format(name)))\n",
    "        name = name.drop(['id', 'conversation_id', 'created_at','timezone','user_id','place','urls','photos','replies_count','retweets_count','likes_count','cashtags','retweet','quote_url','video','near','geo','source','user_rt_id','user_rt','retweet_id','retweet_date','translate','trans_src','trans_dest'], axis=1)\n",
    "        return name\n",
    " "
   ]
  },
  {
   "cell_type": "code",
   "execution_count": 248,
   "metadata": {},
   "outputs": [],
   "source": [
    "import re   \n",
    "class Remove():\n",
    "    def no_links(self=None, name=None):\n",
    "        self.name = name\n",
    "        name['tweet'] = re.sub(r'https?:\\/\\/.*\\s?', ' ', name['tweet'])\n",
    "        return name['tweet']\n",
    "    def no_pics(self, name=None):\n",
    "        return re.sub(r'pic\\.twitter\\.com\\/.*\\s?', ' ', name['tweet'])\n",
    "\n",
    "    def no_numbers(self, name=None):\n",
    "        return re.sub(r'\\d.*\\s?', '', name['tweet'])"
   ]
  },
  {
   "cell_type": "code",
   "execution_count": 210,
   "metadata": {},
   "outputs": [],
   "source": [
    "import_data = Import()\n",
    "\n",
    "buttigieg = import_data.read_data(name = 'buttigieg')\n",
    "klobuchar = import_data.read_data(name = 'klobuchar')\n",
    "bernie = import_data.read_data(name = 'bernie')\n",
    "biden = import_data.read_data(name = 'biden')\n",
    "bloomberg = import_data.read_data(name = 'bloomberg')\n",
    "warren = import_data.read_data(name = 'warren')\n"
   ]
  },
  {
   "cell_type": "code",
   "execution_count": null,
   "metadata": {},
   "outputs": [],
   "source": []
  },
  {
   "cell_type": "code",
   "execution_count": null,
   "metadata": {},
   "outputs": [],
   "source": []
  },
  {
   "cell_type": "code",
   "execution_count": null,
   "metadata": {},
   "outputs": [],
   "source": []
  },
  {
   "cell_type": "code",
   "execution_count": null,
   "metadata": {},
   "outputs": [],
   "source": []
  },
  {
   "cell_type": "code",
   "execution_count": null,
   "metadata": {},
   "outputs": [],
   "source": []
  }
 ],
 "metadata": {
  "kernelspec": {
   "display_name": "Python 3",
   "language": "python",
   "name": "python3"
  },
  "language_info": {
   "codemirror_mode": {
    "name": "ipython",
    "version": 3
   },
   "file_extension": ".py",
   "mimetype": "text/x-python",
   "name": "python",
   "nbconvert_exporter": "python",
   "pygments_lexer": "ipython3",
   "version": "3.7.4"
  }
 },
 "nbformat": 4,
 "nbformat_minor": 2
}
